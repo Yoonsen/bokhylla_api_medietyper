{
 "cells": [
  {
   "cell_type": "code",
   "execution_count": 2,
   "metadata": {},
   "outputs": [],
   "source": [
    "rand = ['274c194c0670b84625233d15dbc2a204',\n",
    " '3de2efd200cd77986601fe145c15102b',\n",
    " '30cbb8ca0833720f249ebfe9ea1167f4',\n",
    " '5deb05d750c7975a5ab02a5218c3367c',\n",
    " '3184c3484566395db5d7796f446dddec',\n",
    " 'ebae6b283f7042bbe3946d1292e971b6',\n",
    " 'dcb066d9fcaf7e443e65f74238e1700d',\n",
    " '3875b94d2decad177de00d9931db2c34',\n",
    " 'a56f821bdffe91164cb3e6d656f67ede',\n",
    " 'c1b73389ec42303cb1d3aa6036641e69',\n",
    " '0e39cdb5e86a75b920536d091c199ca8',\n",
    " '749df6c03ab63f4ceecfe03557664ad9',\n",
    " '4b625bc9cb091703f9ba393f4b2d58e3',\n",
    " '7ee8e2ea3da30be487e4d55101dfd20b',\n",
    " 'eb443a0ea48a90d9b2c1ae62caa48b9e',\n",
    " 'e7b836e0474cd9f3a4b4a423788f47a3',\n",
    " '9c6d1eef8ca5a01b4c987236791abc74',\n",
    " '1f4a92540c70caf1ec417ba180d06d1e',\n",
    " '3d24ead201e9386908354af9d4f1916d',\n",
    " 'ae3e824e840b482c6907e4dc75899bc6',\n",
    " '30fae4f1296a09c50dffcf4badea67a7',\n",
    " '37243556c781a10735612afd7a0c6361',\n",
    " '1c846fc50fd87acf7059e4e3278397d6',\n",
    " '2d22df27bab49365146e82191dd7932a',\n",
    " '2463cb9e4d780d22d1c75ea93042ee9b',\n",
    " 'ef0f20cc8ea97ff40d55c89a794e1639',\n",
    " '21e780f9f28da1079c7c76224e35933f',\n",
    " '924b152be97e9b2f8514af82a0cdca9c',\n",
    " '21dcd35fa00905adb10345867e3b3390',\n",
    " 'ea7261c9652d796b08b64b6d30fa1f80',\n",
    " '82a3084a693a78aade5b9841ba53e090',\n",
    " '17e2fb4181911d5212ce580cdd1b651e',\n",
    " '0e50280bc05d27aca605f1e9718a81b7',\n",
    " 'b6c4e60e4684d5e82a8a516e43e5cf32',\n",
    " 'c9799ea068cd8c6ba34627abad70798b',\n",
    " '318004da88fe932208be7c2405705943',\n",
    " 'e4795f9ec7dbb07305505c577af1f7b6',\n",
    " '558a35508784357944f4107a65679dde',\n",
    " '03e082a037e143180bc88e04ff56defb',\n",
    " '269f67eb484804c36ebd62fe71363264',\n",
    " '17a5db68a647795cfcc906df1ad578a7',\n",
    " '76c70d9b945aee711b435ddceb63e8cf',\n",
    " 'cc0f77cbe7da36f9bad4cc5ffcbd0d22',\n",
    " '5ebacd7392bf77dd9acac7d85704d4e7',\n",
    " '2f0684c25b188df18d017b23356af43c',\n",
    " 'c22e416c17822d4a6e0bd13335e76cc6',\n",
    " '8b0f3e574e380791fe743d37f330fb93',\n",
    " '53cec5363cead3fd265a7b34c9aff92d',\n",
    " '6ad162b07adc0658dceed5c023bf4a52',\n",
    " '15978476302695a4b857b76456d7945b']\n"
   ]
  },
  {
   "cell_type": "code",
   "execution_count": 6,
   "metadata": {},
   "outputs": [],
   "source": [
    "from multiprocessing import Pool\n",
    "import parallellkonk as pko"
   ]
  },
  {
   "cell_type": "code",
   "execution_count": 7,
   "metadata": {},
   "outputs": [
    {
     "data": {
      "text/plain": [
       "<module 'parallellkonk' from 'C:\\\\Users\\\\larsj\\\\Documents\\\\GitHub\\\\bokhylla_api_medietyper\\\\parallellkonk.py'>"
      ]
     },
     "execution_count": 7,
     "metadata": {},
     "output_type": "execute_result"
    }
   ],
   "source": [
    "import imp\n",
    "imp.reload(pko)"
   ]
  },
  {
   "cell_type": "code",
   "execution_count": 10,
   "metadata": {},
   "outputs": [
    {
     "ename": "TypeError",
     "evalue": "get_konks() missing 1 required positional argument: 'phrase'",
     "output_type": "error",
     "traceback": [
      "\u001b[1;31m---------------------------------------------------------------------------\u001b[0m",
      "\u001b[1;31mRemoteTraceback\u001b[0m                           Traceback (most recent call last)",
      "\u001b[1;31mRemoteTraceback\u001b[0m: \n\"\"\"\nTraceback (most recent call last):\n  File \"C:\\Users\\larsj\\Anaconda3\\lib\\multiprocessing\\pool.py\", line 125, in worker\n    result = (True, func(*args, **kwds))\n  File \"C:\\Users\\larsj\\Anaconda3\\lib\\multiprocessing\\pool.py\", line 48, in mapstar\n    return list(map(*args))\nTypeError: get_konks() missing 1 required positional argument: 'phrase'\n\"\"\"",
      "\nThe above exception was the direct cause of the following exception:\n",
      "\u001b[1;31mTypeError\u001b[0m                                 Traceback (most recent call last)",
      "\u001b[1;32m<ipython-input-10-bc3929a5d295>\u001b[0m in \u001b[0;36m<module>\u001b[1;34m\u001b[0m\n\u001b[0;32m      3\u001b[0m \u001b[1;33m\u001b[0m\u001b[0m\n\u001b[0;32m      4\u001b[0m     \u001b[0mp\u001b[0m \u001b[1;33m=\u001b[0m \u001b[0mPool\u001b[0m\u001b[1;33m(\u001b[0m\u001b[1;36m10\u001b[0m\u001b[1;33m)\u001b[0m\u001b[1;33m\u001b[0m\u001b[1;33m\u001b[0m\u001b[0m\n\u001b[1;32m----> 5\u001b[1;33m     \u001b[0mres\u001b[0m \u001b[1;33m=\u001b[0m \u001b[0mp\u001b[0m\u001b[1;33m.\u001b[0m\u001b[0mmap\u001b[0m\u001b[1;33m(\u001b[0m\u001b[0mpko\u001b[0m\u001b[1;33m.\u001b[0m\u001b[0mget_konks\u001b[0m\u001b[1;33m,\u001b[0m \u001b[0mrand\u001b[0m\u001b[1;33m)\u001b[0m\u001b[1;33m\u001b[0m\u001b[1;33m\u001b[0m\u001b[0m\n\u001b[0m",
      "\u001b[1;32m~\\Anaconda3\\lib\\multiprocessing\\pool.py\u001b[0m in \u001b[0;36mmap\u001b[1;34m(self, func, iterable, chunksize)\u001b[0m\n\u001b[0;32m    362\u001b[0m         \u001b[1;32min\u001b[0m \u001b[0ma\u001b[0m \u001b[0mlist\u001b[0m \u001b[0mthat\u001b[0m \u001b[1;32mis\u001b[0m \u001b[0mreturned\u001b[0m\u001b[1;33m.\u001b[0m\u001b[1;33m\u001b[0m\u001b[1;33m\u001b[0m\u001b[0m\n\u001b[0;32m    363\u001b[0m         '''\n\u001b[1;32m--> 364\u001b[1;33m         \u001b[1;32mreturn\u001b[0m \u001b[0mself\u001b[0m\u001b[1;33m.\u001b[0m\u001b[0m_map_async\u001b[0m\u001b[1;33m(\u001b[0m\u001b[0mfunc\u001b[0m\u001b[1;33m,\u001b[0m \u001b[0miterable\u001b[0m\u001b[1;33m,\u001b[0m \u001b[0mmapstar\u001b[0m\u001b[1;33m,\u001b[0m \u001b[0mchunksize\u001b[0m\u001b[1;33m)\u001b[0m\u001b[1;33m.\u001b[0m\u001b[0mget\u001b[0m\u001b[1;33m(\u001b[0m\u001b[1;33m)\u001b[0m\u001b[1;33m\u001b[0m\u001b[1;33m\u001b[0m\u001b[0m\n\u001b[0m\u001b[0;32m    365\u001b[0m \u001b[1;33m\u001b[0m\u001b[0m\n\u001b[0;32m    366\u001b[0m     \u001b[1;32mdef\u001b[0m \u001b[0mstarmap\u001b[0m\u001b[1;33m(\u001b[0m\u001b[0mself\u001b[0m\u001b[1;33m,\u001b[0m \u001b[0mfunc\u001b[0m\u001b[1;33m,\u001b[0m \u001b[0miterable\u001b[0m\u001b[1;33m,\u001b[0m \u001b[0mchunksize\u001b[0m\u001b[1;33m=\u001b[0m\u001b[1;32mNone\u001b[0m\u001b[1;33m)\u001b[0m\u001b[1;33m:\u001b[0m\u001b[1;33m\u001b[0m\u001b[1;33m\u001b[0m\u001b[0m\n",
      "\u001b[1;32m~\\Anaconda3\\lib\\multiprocessing\\pool.py\u001b[0m in \u001b[0;36mget\u001b[1;34m(self, timeout)\u001b[0m\n\u001b[0;32m    769\u001b[0m             \u001b[1;32mreturn\u001b[0m \u001b[0mself\u001b[0m\u001b[1;33m.\u001b[0m\u001b[0m_value\u001b[0m\u001b[1;33m\u001b[0m\u001b[1;33m\u001b[0m\u001b[0m\n\u001b[0;32m    770\u001b[0m         \u001b[1;32melse\u001b[0m\u001b[1;33m:\u001b[0m\u001b[1;33m\u001b[0m\u001b[1;33m\u001b[0m\u001b[0m\n\u001b[1;32m--> 771\u001b[1;33m             \u001b[1;32mraise\u001b[0m \u001b[0mself\u001b[0m\u001b[1;33m.\u001b[0m\u001b[0m_value\u001b[0m\u001b[1;33m\u001b[0m\u001b[1;33m\u001b[0m\u001b[0m\n\u001b[0m\u001b[0;32m    772\u001b[0m \u001b[1;33m\u001b[0m\u001b[0m\n\u001b[0;32m    773\u001b[0m     \u001b[1;32mdef\u001b[0m \u001b[0m_set\u001b[0m\u001b[1;33m(\u001b[0m\u001b[0mself\u001b[0m\u001b[1;33m,\u001b[0m \u001b[0mi\u001b[0m\u001b[1;33m,\u001b[0m \u001b[0mobj\u001b[0m\u001b[1;33m)\u001b[0m\u001b[1;33m:\u001b[0m\u001b[1;33m\u001b[0m\u001b[1;33m\u001b[0m\u001b[0m\n",
      "\u001b[1;31mTypeError\u001b[0m: get_konks() missing 1 required positional argument: 'phrase'"
     ]
    }
   ],
   "source": [
    "\n",
    "\n",
    "if __name__ == '__main__':\n",
    "    \n",
    "    \n",
    "    p = Pool(10)\n",
    "    res = p.map(pko.get_konks, rand)"
   ]
  },
  {
   "cell_type": "code",
   "execution_count": null,
   "metadata": {},
   "outputs": [],
   "source": []
  }
 ],
 "metadata": {
  "kernelspec": {
   "display_name": "Python 3",
   "language": "python",
   "name": "python3"
  },
  "language_info": {
   "codemirror_mode": {
    "name": "ipython",
    "version": 3
   },
   "file_extension": ".py",
   "mimetype": "text/x-python",
   "name": "python",
   "nbconvert_exporter": "python",
   "pygments_lexer": "ipython3",
   "version": "3.8.3"
  }
 },
 "nbformat": 4,
 "nbformat_minor": 4
}
